{
 "cells": [
  {
   "cell_type": "code",
   "execution_count": 4,
   "metadata": {
    "collapsed": false
   },
   "outputs": [],
   "source": [
    "% matplotlib notebook\n",
    "import matplotlib.pyplot as plt\n",
    "import numpy as np\n",
    "import pandas\n",
    "import torch, torch.utils.data, torchvision\n",
    "import PIL\n",
    "import os.path\n",
    "import time\n",
    "import skimage, skimage.io\n",
    "import time\n",
    "import copy\n",
    "from my_utils import *"
   ]
  },
  {
   "cell_type": "code",
   "execution_count": 5,
   "metadata": {
    "collapsed": true
   },
   "outputs": [],
   "source": [
    "MEAN = [0.485, 0.456, 0.406] # expected by pretrained resnet18\n",
    "STD = [0.229, 0.224, 0.225] # expected by pretrained resnet18"
   ]
  },
  {
   "cell_type": "markdown",
   "metadata": {},
   "source": [
    "# Full model"
   ]
  },
  {
   "cell_type": "code",
   "execution_count": 6,
   "metadata": {
    "collapsed": false
   },
   "outputs": [],
   "source": [
    "# load the data and add a column for occurrences\n",
    "df = pandas.read_csv('./data/train.csv')\n",
    "grouped = df.groupby('Id')\n",
    "df['occurrences'] =  grouped.Id.transform('count')"
   ]
  },
  {
   "cell_type": "code",
   "execution_count": 8,
   "metadata": {
    "collapsed": true
   },
   "outputs": [],
   "source": [
    "# define transformations with data augmentation.\n",
    "# These are the same transformations that were used for the toy_model\n",
    "transforms_augm = torchvision.transforms.Compose([\n",
    "    torchvision.transforms.RandomRotation(degrees=20.0), # Data augmentation\n",
    "    torchvision.transforms.RandomGrayscale(), # Data augmentation\n",
    "    # torchvision.transforms.Resize((224,int(224.0*16.0/9.0))),\n",
    "    torchvision.transforms.Resize((224,224)),\n",
    "    torchvision.transforms.ToTensor(), # Expected by pretrained neural network\n",
    "    torchvision.transforms.Normalize(MEAN, STD) # Expected by pretrained neural network\n",
    "    ])"
   ]
  },
  {
   "cell_type": "code",
   "execution_count": 9,
   "metadata": {
    "collapsed": false
   },
   "outputs": [],
   "source": [
    "# Load the full dataset. Using a random subset as the validation set is difficult because\n",
    "# many of the categories appear only a single time. I could try to use cross-validation instead,\n",
    "# but for the moment I am just going to ignore the validation set.\n",
    "full_data = WhaleDataset(df,'./data/',transform=transforms_augm)\n",
    "full_dataloader = {'train': torch.utils.data.DataLoader(full_data,\\\n",
    "                                                   batch_size=4,\\\n",
    "                                                   num_workers=4,\\\n",
    "                                                   shuffle=True,\\\n",
    "                                                   sampler=None)}"
   ]
  },
  {
   "cell_type": "code",
   "execution_count": 10,
   "metadata": {
    "collapsed": true
   },
   "outputs": [],
   "source": [
    "# load the toy_model\n",
    "toy_model = torch.load('./toy_model_all_layers_trained.pt')"
   ]
  },
  {
   "cell_type": "code",
   "execution_count": 11,
   "metadata": {
    "collapsed": false
   },
   "outputs": [],
   "source": [
    "# Create the full model from the toy nodel by replacing the last layer\n",
    "full_model = copy.deepcopy(toy_model)\n",
    "\n",
    "# freeze layers\n",
    "for params in full_model.parameters():\n",
    "    params.requires_grad == False\n",
    "\n",
    "# Create new final layer (unfrozen by default)\n",
    "num_in = full_model.fc.in_features\n",
    "num_out = len(full_dataloader['train'].dataset.categories)\n",
    "full_model.fc = torch.nn.Linear(num_in,num_out)\n",
    "full_model.fc\n",
    "\n",
    "# define the device\n",
    "device = torch.device(\"cuda:0\" if torch.cuda.is_available() else \"cpu\")"
   ]
  },
  {
   "cell_type": "code",
   "execution_count": 12,
   "metadata": {
    "collapsed": true
   },
   "outputs": [],
   "source": [
    "# Choose the loss function (criterion) and optimizer.\n",
    "# I make the same choice as for the toy_model.\n",
    "criterion = torch.nn.CrossEntropyLoss()\n",
    "full_optimizer = torch.optim.Adam(toy_model.fc.parameters(),lr=0.001)"
   ]
  },
  {
   "cell_type": "code",
   "execution_count": null,
   "metadata": {
    "collapsed": false
   },
   "outputs": [
    {
     "name": "stdout",
     "output_type": "stream",
     "text": [
      "Epoch 0 / 10\n"
     ]
    }
   ],
   "source": [
    "# train the full model\n",
    "full_model, loss_vals, acc_vals = train_with_restart(\n",
    "    full_model,full_dataloader,criterion,full_optimizer,device,\\\n",
    "    use_val=False,num_epochs=10)"
   ]
  },
  {
   "cell_type": "code",
   "execution_count": 5,
   "metadata": {
    "collapsed": false
   },
   "outputs": [
    {
     "ename": "NameError",
     "evalue": "name 'full_model' is not defined",
     "output_type": "error",
     "traceback": [
      "\u001b[1;31m---------------------------------------------------------------------------\u001b[0m",
      "\u001b[1;31mNameError\u001b[0m                                 Traceback (most recent call last)",
      "\u001b[1;32m<ipython-input-5-1c8f083f2ab9>\u001b[0m in \u001b[0;36m<module>\u001b[1;34m()\u001b[0m\n\u001b[1;32m----> 1\u001b[1;33m \u001b[0mtorch\u001b[0m\u001b[1;33m.\u001b[0m\u001b[0msave\u001b[0m\u001b[1;33m(\u001b[0m\u001b[0mfull_model\u001b[0m\u001b[1;33m,\u001b[0m\u001b[1;34m'full_model_from_jupyter'\u001b[0m\u001b[1;33m)\u001b[0m\u001b[1;33m\u001b[0m\u001b[0m\n\u001b[0m",
      "\u001b[1;31mNameError\u001b[0m: name 'full_model' is not defined"
     ]
    }
   ],
   "source": [
    "torch.save(full_model,'full_model.pt')"
   ]
  },
  {
   "cell_type": "code",
   "execution_count": null,
   "metadata": {
    "collapsed": true
   },
   "outputs": [],
   "source": []
  }
 ],
 "metadata": {
  "kernelspec": {
   "display_name": "Python 2",
   "language": "python",
   "name": "python2"
  },
  "language_info": {
   "codemirror_mode": {
    "name": "ipython",
    "version": 2
   },
   "file_extension": ".py",
   "mimetype": "text/x-python",
   "name": "python",
   "nbconvert_exporter": "python",
   "pygments_lexer": "ipython2",
   "version": "2.7.12"
  }
 },
 "nbformat": 4,
 "nbformat_minor": 0
}
